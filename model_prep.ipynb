{
 "cells": [
  {
   "cell_type": "code",
   "execution_count": 1,
   "id": "bfe6bcdb",
   "metadata": {},
   "outputs": [],
   "source": [
    "#importing the necessary libraries\n",
    "import os\n",
    "import re\n",
    "import numpy as np\n",
    "import pandas as pd\n",
    "#from tqdm import tqdm\n",
    "import matplotlib.pyplot as plt"
   ]
  },
  {
   "cell_type": "code",
   "execution_count": 2,
   "id": "6c5be811",
   "metadata": {},
   "outputs": [
    {
     "data": {
      "application/vnd.microsoft.datawrangler.viewer.v0+json": {
       "columns": [
        {
         "name": "index",
         "rawType": "int64",
         "type": "integer"
        },
        {
         "name": "original_url",
         "rawType": "object",
         "type": "string"
        },
        {
         "name": "url_length",
         "rawType": "int64",
         "type": "integer"
        },
        {
         "name": "domain_length",
         "rawType": "int64",
         "type": "integer"
        },
        {
         "name": "path_length",
         "rawType": "int64",
         "type": "integer"
        },
        {
         "name": "query_length",
         "rawType": "int64",
         "type": "integer"
        },
        {
         "name": "subdomain_count",
         "rawType": "int64",
         "type": "integer"
        },
        {
         "name": "dot_count",
         "rawType": "int64",
         "type": "integer"
        },
        {
         "name": "dash_count",
         "rawType": "int64",
         "type": "integer"
        },
        {
         "name": "underscore_count",
         "rawType": "int64",
         "type": "integer"
        },
        {
         "name": "slash_count",
         "rawType": "int64",
         "type": "integer"
        },
        {
         "name": "question_count",
         "rawType": "int64",
         "type": "integer"
        },
        {
         "name": "equal_count",
         "rawType": "int64",
         "type": "integer"
        },
        {
         "name": "at_count",
         "rawType": "int64",
         "type": "integer"
        },
        {
         "name": "ampersand_count",
         "rawType": "int64",
         "type": "integer"
        },
        {
         "name": "exclamation_count",
         "rawType": "int64",
         "type": "integer"
        },
        {
         "name": "space_count",
         "rawType": "int64",
         "type": "integer"
        },
        {
         "name": "tilde_count",
         "rawType": "int64",
         "type": "integer"
        },
        {
         "name": "comma_count",
         "rawType": "int64",
         "type": "integer"
        },
        {
         "name": "plus_count",
         "rawType": "int64",
         "type": "integer"
        },
        {
         "name": "asterisk_count",
         "rawType": "int64",
         "type": "integer"
        },
        {
         "name": "hash_count",
         "rawType": "int64",
         "type": "integer"
        },
        {
         "name": "dollar_count",
         "rawType": "int64",
         "type": "integer"
        },
        {
         "name": "percent_count",
         "rawType": "int64",
         "type": "integer"
        },
        {
         "name": "hex_encoding_count",
         "rawType": "int64",
         "type": "integer"
        },
        {
         "name": "has_hex_encoding",
         "rawType": "int64",
         "type": "integer"
        },
        {
         "name": "digit_count",
         "rawType": "int64",
         "type": "integer"
        },
        {
         "name": "digit_ratio",
         "rawType": "float64",
         "type": "float"
        },
        {
         "name": "letter_count",
         "rawType": "int64",
         "type": "integer"
        },
        {
         "name": "letter_ratio",
         "rawType": "float64",
         "type": "float"
        },
        {
         "name": "domain",
         "rawType": "object",
         "type": "string"
        },
        {
         "name": "is_common_tld",
         "rawType": "int64",
         "type": "integer"
        },
        {
         "name": "is_suspicious_tld",
         "rawType": "int64",
         "type": "integer"
        },
        {
         "name": "param_count",
         "rawType": "int64",
         "type": "integer"
        },
        {
         "name": "suspicious_keyword_count",
         "rawType": "int64",
         "type": "integer"
        },
        {
         "name": "has_suspicious_keywords",
         "rawType": "int64",
         "type": "integer"
        },
        {
         "name": "is_https",
         "rawType": "int64",
         "type": "integer"
        },
        {
         "name": "is_http",
         "rawType": "int64",
         "type": "integer"
        },
        {
         "name": "url_entropy",
         "rawType": "float64",
         "type": "float"
        },
        {
         "name": "domain_entropy",
         "rawType": "float64",
         "type": "float"
        },
        {
         "name": "vowel_count",
         "rawType": "int64",
         "type": "integer"
        },
        {
         "name": "vowel_ratio",
         "rawType": "float64",
         "type": "float"
        },
        {
         "name": "consecutive_char_count",
         "rawType": "int64",
         "type": "integer"
        },
        {
         "name": "max_consecutive_chars",
         "rawType": "int64",
         "type": "integer"
        },
        {
         "name": "label",
         "rawType": "int64",
         "type": "integer"
        }
       ],
       "ref": "ee80319e-a4bc-417f-a43b-169d95f923a4",
       "rows": [
        [
         "0",
         "0000111servicehelpdesk.godaddysites.com",
         "39",
         "0",
         "39",
         "0",
         "1",
         "2",
         "0",
         "0",
         "0",
         "0",
         "0",
         "0",
         "0",
         "0",
         "0",
         "0",
         "0",
         "0",
         "0",
         "0",
         "0",
         "0",
         "0",
         "0",
         "7",
         "0.1794871794871795",
         "30",
         "0.7692307692307693",
         "godaddysites",
         "1",
         "0",
         "0",
         "0",
         "0",
         "0",
         "0",
         "4.045286116898138",
         "3.0220552088742005",
         "10",
         "0.2564102564102564",
         "3",
         "2",
         "0"
        ],
        [
         "1",
         "000011accesswebform.godaddysites.com",
         "36",
         "0",
         "36",
         "0",
         "1",
         "2",
         "0",
         "0",
         "0",
         "0",
         "0",
         "0",
         "0",
         "0",
         "0",
         "0",
         "0",
         "0",
         "0",
         "0",
         "0",
         "0",
         "0",
         "0",
         "6",
         "0.1666666666666666",
         "28",
         "0.7777777777777778",
         "godaddysites",
         "1",
         "0",
         "0",
         "0",
         "0",
         "0",
         "0",
         "3.974937501201926",
         "3.0220552088742005",
         "9",
         "0.25",
         "5",
         "2",
         "0"
        ],
        [
         "2",
         "00003.online",
         "12",
         "0",
         "12",
         "0",
         "0",
         "1",
         "0",
         "0",
         "0",
         "0",
         "0",
         "0",
         "0",
         "0",
         "0",
         "0",
         "0",
         "0",
         "0",
         "0",
         "0",
         "0",
         "0",
         "0",
         "5",
         "0.4166666666666667",
         "6",
         "0.5",
         "00003",
         "0",
         "0",
         "0",
         "0",
         "0",
         "0",
         "0",
         "2.751629167387823",
         "0.7219280948873623",
         "3",
         "0.25",
         "1",
         "2",
         "0"
        ],
        [
         "3",
         "0009servicedeskowa.godaddysites.com",
         "35",
         "0",
         "35",
         "0",
         "1",
         "2",
         "0",
         "0",
         "0",
         "0",
         "0",
         "0",
         "0",
         "0",
         "0",
         "0",
         "0",
         "0",
         "0",
         "0",
         "0",
         "0",
         "0",
         "0",
         "4",
         "0.1142857142857142",
         "29",
         "0.8285714285714286",
         "godaddysites",
         "1",
         "0",
         "0",
         "0",
         "0",
         "0",
         "0",
         "3.943289445392767",
         "3.0220552088742005",
         "11",
         "0.3142857142857143",
         "2",
         "2",
         "0"
        ],
        [
         "4",
         "000n38p.wcomhost.com",
         "20",
         "0",
         "20",
         "0",
         "1",
         "2",
         "0",
         "0",
         "0",
         "0",
         "0",
         "0",
         "0",
         "0",
         "0",
         "0",
         "0",
         "0",
         "0",
         "0",
         "0",
         "0",
         "0",
         "0",
         "5",
         "0.25",
         "13",
         "0.65",
         "wcomhost",
         "1",
         "0",
         "0",
         "0",
         "0",
         "0",
         "0",
         "3.546439344671015",
         "2.75",
         "3",
         "0.15",
         "1",
         "2",
         "0"
        ]
       ],
       "shape": {
        "columns": 44,
        "rows": 5
       }
      },
      "text/html": [
       "<div>\n",
       "<style scoped>\n",
       "    .dataframe tbody tr th:only-of-type {\n",
       "        vertical-align: middle;\n",
       "    }\n",
       "\n",
       "    .dataframe tbody tr th {\n",
       "        vertical-align: top;\n",
       "    }\n",
       "\n",
       "    .dataframe thead th {\n",
       "        text-align: right;\n",
       "    }\n",
       "</style>\n",
       "<table border=\"1\" class=\"dataframe\">\n",
       "  <thead>\n",
       "    <tr style=\"text-align: right;\">\n",
       "      <th></th>\n",
       "      <th>original_url</th>\n",
       "      <th>url_length</th>\n",
       "      <th>domain_length</th>\n",
       "      <th>path_length</th>\n",
       "      <th>query_length</th>\n",
       "      <th>subdomain_count</th>\n",
       "      <th>dot_count</th>\n",
       "      <th>dash_count</th>\n",
       "      <th>underscore_count</th>\n",
       "      <th>slash_count</th>\n",
       "      <th>...</th>\n",
       "      <th>has_suspicious_keywords</th>\n",
       "      <th>is_https</th>\n",
       "      <th>is_http</th>\n",
       "      <th>url_entropy</th>\n",
       "      <th>domain_entropy</th>\n",
       "      <th>vowel_count</th>\n",
       "      <th>vowel_ratio</th>\n",
       "      <th>consecutive_char_count</th>\n",
       "      <th>max_consecutive_chars</th>\n",
       "      <th>label</th>\n",
       "    </tr>\n",
       "  </thead>\n",
       "  <tbody>\n",
       "    <tr>\n",
       "      <th>0</th>\n",
       "      <td>0000111servicehelpdesk.godaddysites.com</td>\n",
       "      <td>39</td>\n",
       "      <td>0</td>\n",
       "      <td>39</td>\n",
       "      <td>0</td>\n",
       "      <td>1</td>\n",
       "      <td>2</td>\n",
       "      <td>0</td>\n",
       "      <td>0</td>\n",
       "      <td>0</td>\n",
       "      <td>...</td>\n",
       "      <td>0</td>\n",
       "      <td>0</td>\n",
       "      <td>0</td>\n",
       "      <td>4.045286</td>\n",
       "      <td>3.022055</td>\n",
       "      <td>10</td>\n",
       "      <td>0.256410</td>\n",
       "      <td>3</td>\n",
       "      <td>2</td>\n",
       "      <td>0</td>\n",
       "    </tr>\n",
       "    <tr>\n",
       "      <th>1</th>\n",
       "      <td>000011accesswebform.godaddysites.com</td>\n",
       "      <td>36</td>\n",
       "      <td>0</td>\n",
       "      <td>36</td>\n",
       "      <td>0</td>\n",
       "      <td>1</td>\n",
       "      <td>2</td>\n",
       "      <td>0</td>\n",
       "      <td>0</td>\n",
       "      <td>0</td>\n",
       "      <td>...</td>\n",
       "      <td>0</td>\n",
       "      <td>0</td>\n",
       "      <td>0</td>\n",
       "      <td>3.974938</td>\n",
       "      <td>3.022055</td>\n",
       "      <td>9</td>\n",
       "      <td>0.250000</td>\n",
       "      <td>5</td>\n",
       "      <td>2</td>\n",
       "      <td>0</td>\n",
       "    </tr>\n",
       "    <tr>\n",
       "      <th>2</th>\n",
       "      <td>00003.online</td>\n",
       "      <td>12</td>\n",
       "      <td>0</td>\n",
       "      <td>12</td>\n",
       "      <td>0</td>\n",
       "      <td>0</td>\n",
       "      <td>1</td>\n",
       "      <td>0</td>\n",
       "      <td>0</td>\n",
       "      <td>0</td>\n",
       "      <td>...</td>\n",
       "      <td>0</td>\n",
       "      <td>0</td>\n",
       "      <td>0</td>\n",
       "      <td>2.751629</td>\n",
       "      <td>0.721928</td>\n",
       "      <td>3</td>\n",
       "      <td>0.250000</td>\n",
       "      <td>1</td>\n",
       "      <td>2</td>\n",
       "      <td>0</td>\n",
       "    </tr>\n",
       "    <tr>\n",
       "      <th>3</th>\n",
       "      <td>0009servicedeskowa.godaddysites.com</td>\n",
       "      <td>35</td>\n",
       "      <td>0</td>\n",
       "      <td>35</td>\n",
       "      <td>0</td>\n",
       "      <td>1</td>\n",
       "      <td>2</td>\n",
       "      <td>0</td>\n",
       "      <td>0</td>\n",
       "      <td>0</td>\n",
       "      <td>...</td>\n",
       "      <td>0</td>\n",
       "      <td>0</td>\n",
       "      <td>0</td>\n",
       "      <td>3.943289</td>\n",
       "      <td>3.022055</td>\n",
       "      <td>11</td>\n",
       "      <td>0.314286</td>\n",
       "      <td>2</td>\n",
       "      <td>2</td>\n",
       "      <td>0</td>\n",
       "    </tr>\n",
       "    <tr>\n",
       "      <th>4</th>\n",
       "      <td>000n38p.wcomhost.com</td>\n",
       "      <td>20</td>\n",
       "      <td>0</td>\n",
       "      <td>20</td>\n",
       "      <td>0</td>\n",
       "      <td>1</td>\n",
       "      <td>2</td>\n",
       "      <td>0</td>\n",
       "      <td>0</td>\n",
       "      <td>0</td>\n",
       "      <td>...</td>\n",
       "      <td>0</td>\n",
       "      <td>0</td>\n",
       "      <td>0</td>\n",
       "      <td>3.546439</td>\n",
       "      <td>2.750000</td>\n",
       "      <td>3</td>\n",
       "      <td>0.150000</td>\n",
       "      <td>1</td>\n",
       "      <td>2</td>\n",
       "      <td>0</td>\n",
       "    </tr>\n",
       "  </tbody>\n",
       "</table>\n",
       "<p>5 rows × 44 columns</p>\n",
       "</div>"
      ],
      "text/plain": [
       "                              original_url  url_length  domain_length  \\\n",
       "0  0000111servicehelpdesk.godaddysites.com          39              0   \n",
       "1     000011accesswebform.godaddysites.com          36              0   \n",
       "2                             00003.online          12              0   \n",
       "3      0009servicedeskowa.godaddysites.com          35              0   \n",
       "4                     000n38p.wcomhost.com          20              0   \n",
       "\n",
       "   path_length  query_length  subdomain_count  dot_count  dash_count  \\\n",
       "0           39             0                1          2           0   \n",
       "1           36             0                1          2           0   \n",
       "2           12             0                0          1           0   \n",
       "3           35             0                1          2           0   \n",
       "4           20             0                1          2           0   \n",
       "\n",
       "   underscore_count  slash_count  ...  has_suspicious_keywords  is_https  \\\n",
       "0                 0            0  ...                        0         0   \n",
       "1                 0            0  ...                        0         0   \n",
       "2                 0            0  ...                        0         0   \n",
       "3                 0            0  ...                        0         0   \n",
       "4                 0            0  ...                        0         0   \n",
       "\n",
       "   is_http  url_entropy  domain_entropy  vowel_count  vowel_ratio  \\\n",
       "0        0     4.045286        3.022055           10     0.256410   \n",
       "1        0     3.974938        3.022055            9     0.250000   \n",
       "2        0     2.751629        0.721928            3     0.250000   \n",
       "3        0     3.943289        3.022055           11     0.314286   \n",
       "4        0     3.546439        2.750000            3     0.150000   \n",
       "\n",
       "   consecutive_char_count  max_consecutive_chars  label  \n",
       "0                       3                      2      0  \n",
       "1                       5                      2      0  \n",
       "2                       1                      2      0  \n",
       "3                       2                      2      0  \n",
       "4                       1                      2      0  \n",
       "\n",
       "[5 rows x 44 columns]"
      ]
     },
     "execution_count": 2,
     "metadata": {},
     "output_type": "execute_result"
    }
   ],
   "source": [
    "#Read the file\n",
    "df_= pd.read_csv(\"Data/url_features_dataset.csv\")\n",
    "df_.head(5)"
   ]
  },
  {
   "cell_type": "code",
   "execution_count": 3,
   "id": "49626dbe",
   "metadata": {},
   "outputs": [
    {
     "name": "stdout",
     "output_type": "stream",
     "text": [
      "label\n",
      "1    427028\n",
      "0    394982\n",
      "Name: count, dtype: int64\n"
     ]
    }
   ],
   "source": [
    "#label balance/distribution\n",
    "print(df_['label'].value_counts())"
   ]
  },
  {
   "cell_type": "code",
   "execution_count": 4,
   "id": "265f3de2",
   "metadata": {},
   "outputs": [],
   "source": [
    "#Equally sampling 50% of the dataset because I am experimenting and tuning the models for prototyping and feature selection\n",
    "df_0 = df_[df_['label'] == 0].sample(frac=0.50, random_state=42)\n",
    "df_1 = df_[df_['label'] == 1].sample(frac=0.50, random_state=42)\n",
    "df = pd.concat([df_0, df_1]).sample(frac=1, random_state=42)"
   ]
  },
  {
   "cell_type": "code",
   "execution_count": 5,
   "id": "b0b4c86b",
   "metadata": {},
   "outputs": [
    {
     "data": {
      "application/vnd.microsoft.datawrangler.viewer.v0+json": {
       "columns": [
        {
         "name": "index",
         "rawType": "object",
         "type": "string"
        },
        {
         "name": "0",
         "rawType": "int64",
         "type": "integer"
        }
       ],
       "ref": "76e2c157-0364-485b-82c4-d3d5068e7b5a",
       "rows": [
        [
         "original_url",
         "0"
        ],
        [
         "url_length",
         "0"
        ],
        [
         "domain_length",
         "0"
        ],
        [
         "path_length",
         "0"
        ],
        [
         "query_length",
         "0"
        ],
        [
         "subdomain_count",
         "0"
        ],
        [
         "dot_count",
         "0"
        ],
        [
         "dash_count",
         "0"
        ],
        [
         "underscore_count",
         "0"
        ],
        [
         "slash_count",
         "0"
        ],
        [
         "question_count",
         "0"
        ],
        [
         "equal_count",
         "0"
        ],
        [
         "at_count",
         "0"
        ],
        [
         "ampersand_count",
         "0"
        ],
        [
         "exclamation_count",
         "0"
        ],
        [
         "space_count",
         "0"
        ],
        [
         "tilde_count",
         "0"
        ],
        [
         "comma_count",
         "0"
        ],
        [
         "plus_count",
         "0"
        ],
        [
         "asterisk_count",
         "0"
        ],
        [
         "hash_count",
         "0"
        ],
        [
         "dollar_count",
         "0"
        ],
        [
         "percent_count",
         "0"
        ],
        [
         "hex_encoding_count",
         "0"
        ],
        [
         "has_hex_encoding",
         "0"
        ],
        [
         "digit_count",
         "0"
        ],
        [
         "digit_ratio",
         "0"
        ],
        [
         "letter_count",
         "0"
        ],
        [
         "letter_ratio",
         "0"
        ],
        [
         "domain",
         "15"
        ],
        [
         "is_common_tld",
         "0"
        ],
        [
         "is_suspicious_tld",
         "0"
        ],
        [
         "param_count",
         "0"
        ],
        [
         "suspicious_keyword_count",
         "0"
        ],
        [
         "has_suspicious_keywords",
         "0"
        ],
        [
         "is_https",
         "0"
        ],
        [
         "is_http",
         "0"
        ],
        [
         "url_entropy",
         "0"
        ],
        [
         "domain_entropy",
         "0"
        ],
        [
         "vowel_count",
         "0"
        ],
        [
         "vowel_ratio",
         "0"
        ],
        [
         "consecutive_char_count",
         "0"
        ],
        [
         "max_consecutive_chars",
         "0"
        ],
        [
         "label",
         "0"
        ]
       ],
       "shape": {
        "columns": 1,
        "rows": 44
       }
      },
      "text/plain": [
       "original_url                 0\n",
       "url_length                   0\n",
       "domain_length                0\n",
       "path_length                  0\n",
       "query_length                 0\n",
       "subdomain_count              0\n",
       "dot_count                    0\n",
       "dash_count                   0\n",
       "underscore_count             0\n",
       "slash_count                  0\n",
       "question_count               0\n",
       "equal_count                  0\n",
       "at_count                     0\n",
       "ampersand_count              0\n",
       "exclamation_count            0\n",
       "space_count                  0\n",
       "tilde_count                  0\n",
       "comma_count                  0\n",
       "plus_count                   0\n",
       "asterisk_count               0\n",
       "hash_count                   0\n",
       "dollar_count                 0\n",
       "percent_count                0\n",
       "hex_encoding_count           0\n",
       "has_hex_encoding             0\n",
       "digit_count                  0\n",
       "digit_ratio                  0\n",
       "letter_count                 0\n",
       "letter_ratio                 0\n",
       "domain                      15\n",
       "is_common_tld                0\n",
       "is_suspicious_tld            0\n",
       "param_count                  0\n",
       "suspicious_keyword_count     0\n",
       "has_suspicious_keywords      0\n",
       "is_https                     0\n",
       "is_http                      0\n",
       "url_entropy                  0\n",
       "domain_entropy               0\n",
       "vowel_count                  0\n",
       "vowel_ratio                  0\n",
       "consecutive_char_count       0\n",
       "max_consecutive_chars        0\n",
       "label                        0\n",
       "dtype: int64"
      ]
     },
     "execution_count": 5,
     "metadata": {},
     "output_type": "execute_result"
    }
   ],
   "source": [
    "#Ensuring that there are no null values \n",
    "df.isna().sum()\n",
    "#Confirmed that there are no null values"
   ]
  },
  {
   "cell_type": "code",
   "execution_count": 6,
   "id": "f7fd22db",
   "metadata": {},
   "outputs": [],
   "source": [
    "#Getting the features for the model prepping\n",
    "features = [\n",
    "    'url_length', 'domain_length', 'path_length', 'query_length', 'subdomain_count',\n",
    "    'dot_count', 'dash_count', 'underscore_count', 'question_count', 'slash_count',\n",
    "    'at_count', 'ampersand_count', 'exclamation_count', 'space_count', 'tilde_count', 'comma_count',\n",
    "    'plus_count', 'asterisk_count', 'hash_count', 'dollar_count', 'percent_count', 'hex_encoding_count',\n",
    "    'has_hex_encoding', 'digit_count', 'digit_ratio', 'letter_count', 'letter_ratio', 'is_common_tld', \n",
    "    'is_suspicious_tld', 'param_count', 'suspicious_keyword_count', 'has_suspicious_keywords',\n",
    "    'is_https', 'is_http', 'url_entropy', 'domain_entropy', 'vowel_count', 'vowel_ratio', 'consecutive_char_count',\n",
    "    'max_consecutive_chars'\n",
    "]"
   ]
  },
  {
   "cell_type": "code",
   "execution_count": 7,
   "id": "7fe4a3b1",
   "metadata": {},
   "outputs": [],
   "source": [
    "#Model Prepping\n",
    "from sklearn.model_selection import train_test_split\n",
    "from sklearn.linear_model import LogisticRegression\n",
    "from sklearn.preprocessing import StandardScaler\n",
    "from sklearn.ensemble import RandomForestClassifier\n",
    "from sklearn.svm import LinearSVC\n",
    "from sklearn.metrics import classification_report\n",
    "import xgboost as xgb\n",
    "\n",
    "X = df[features]\n",
    "y = df['label']\n",
    "\n",
    "models = {\n",
    "    \"LogisticRegression\": LogisticRegression(max_iter=1000),\n",
    "    \"RandomForest\": RandomForestClassifier(),\n",
    "    \"SVM\": LinearSVC(),\n",
    "    \"XGBoost\": xgb.XGBClassifier(objective='binary:logistic', eval_metric='logloss', use_label_encoder=False)\n",
    "}"
   ]
  },
  {
   "cell_type": "code",
   "execution_count": 8,
   "id": "17e79de6",
   "metadata": {},
   "outputs": [
    {
     "name": "stdout",
     "output_type": "stream",
     "text": [
      "Training LogisticRegression...\n",
      "LogisticRegression done\n",
      "Training RandomForest...\n",
      "RandomForest done\n",
      "Training SVM...\n",
      "SVM done\n",
      "Training XGBoost...\n"
     ]
    },
    {
     "name": "stderr",
     "output_type": "stream",
     "text": [
      "c:\\Users\\MOSAKU\\miniconda3\\envs\\myenv\\Lib\\site-packages\\xgboost\\training.py:183: UserWarning: [18:31:10] WARNING: C:\\b\\abs_d97hy_84m6\\croot\\xgboost-split_1749630932152\\work\\src\\learner.cc:738: \n",
      "Parameters: { \"use_label_encoder\" } are not used.\n",
      "\n",
      "  bst.update(dtrain, iteration=i, fobj=obj)\n"
     ]
    },
    {
     "name": "stdout",
     "output_type": "stream",
     "text": [
      "XGBoost done\n",
      "                    accuracy  macro_f1    cl0_f1    cl1_f1  cl0_precision  \\\n",
      "LogisticRegression  0.849673  0.849156  0.840326  0.857987       0.856541   \n",
      "RandomForest        0.944964  0.944802  0.941811  0.947794       0.955427   \n",
      "SVM                 0.848420  0.847812  0.838190  0.857434       0.858823   \n",
      "XGBoost             0.939380  0.939155  0.935449  0.942860       0.955994   \n",
      "\n",
      "                    cl1_precision  cl0_recall  cl1_recall  support0  support1  \n",
      "LogisticRegression       0.843780    0.824714    0.872680   39427.0   42774.0  \n",
      "RandomForest             0.935828    0.928577    0.960069   39427.0   42774.0  \n",
      "SVM                      0.839660    0.818525    0.875976   39427.0   42774.0  \n",
      "XGBoost                  0.925258    0.915768    0.961145   39427.0   42774.0  \n"
     ]
    }
   ],
   "source": [
    "results = {}\n",
    "\n",
    "X_train, X_test, y_train, y_test = train_test_split(X, y, test_size=0.2,random_state=42)\n",
    "\n",
    "#Scling the features for models sensitive to feature scales\n",
    "scaler = StandardScaler()\n",
    "X_train_scaled = scaler.fit_transform(X_train)\n",
    "X_test_scaled = scaler.transform(X_test)\n",
    "\n",
    "for model_name, model in models.items():\n",
    "    #Trying to see the issue- optimization\n",
    "    print(f\"Training {model_name}...\")\n",
    "    #Train the model\n",
    "    model.fit(X_train_scaled, y_train)\n",
    "\n",
    "    print(f\"{model_name} done\")\n",
    "\n",
    "    #predit on the test set\n",
    "    y_pred = model.predict(X_test_scaled)\n",
    "\n",
    "    #Compute evaluation metrics\n",
    "    res = classification_report(y_test, y_pred, output_dict=True)\n",
    "\n",
    "    results[model_name] = {\n",
    "        'accuracy': res['accuracy'],\n",
    "        'macro_f1': res['macro avg']['f1-score'],\n",
    "        'cl0_f1': res['0']['f1-score'],\n",
    "        'cl1_f1': res['1']['f1-score'],\n",
    "        'cl0_precision': res['0']['precision'],\n",
    "        'cl1_precision': res['1']['precision'],\n",
    "        'cl0_recall': res['0']['recall'],\n",
    "        'cl1_recall': res['1']['recall'],\n",
    "        'support0': res['0']['support'],\n",
    "        'support1': res['1']['support']\n",
    "    }\n",
    "\n",
    "#Converting results into a pandas.Dataframe for easier comparison\n",
    "results_df = pd.DataFrame(results).T\n",
    "\n",
    "#Print the DataFrame\n",
    "print(results_df)\n"
   ]
  },
  {
   "cell_type": "code",
   "execution_count": 9,
   "id": "22d4d18b",
   "metadata": {},
   "outputs": [
    {
     "data": {
      "image/png": "[encoded data removed]",
      "text/plain": [
       "<Figure size 640x480 with 1 Axes>"
      ]
     },
     "metadata": {},
     "output_type": "display_data"
    }
   ],
   "source": [
    "accuracy, f1 = zip(*[(v['accuracy'], v['macro_f1']) for v in results.values()])\n",
    "\n",
    "plt.figure()\n",
    "plt.scatter(accuracy,f1,label='Model Results', color='blue')\n",
    "plt.plot([0,1], [0,1], linestyle='--', color='gray', label = 'Ideal(45 degree line)')\n",
    "plt.xlabel('Accuracy')\n",
    "plt.ylabel('Macro F1 Score')\n",
    "plt.title('Accuracy vs. Macro-F1 Across Imbalance Levels')\n",
    "plt.legend()\n",
    "plt.grid(True)\n",
    "plt.show()"
   ]
  }
 ],
 "metadata": {
  "kernelspec": {
   "display_name": "myenv",
   "language": "python",
   "name": "python3"
  },
  "language_info": {
   "codemirror_mode": {
    "name": "ipython",
    "version": 3
   },
   "file_extension": ".py",
   "mimetype": "text/x-python",
   "name": "python",
   "nbconvert_exporter": "python",
   "pygments_lexer": "ipython3",
   "version": "3.12.11"
  }
 },
 "nbformat": 4,
 "nbformat_minor": 5
}
